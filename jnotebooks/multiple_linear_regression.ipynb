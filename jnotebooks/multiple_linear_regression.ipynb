{
 "cells": [
  {
   "cell_type": "code",
   "execution_count": 23,
   "id": "733c1cfc-836b-452d-b068-33e220180a23",
   "metadata": {},
   "outputs": [],
   "source": [
    "import pandas as pd\n",
    "from sklearn.model_selection import train_test_split\n",
    "from sklearn.linear_model import LinearRegression, Lasso, Ridge, LassoCV, BayesianRidge\n",
    "import statsmodels.formula.api as sm\n",
    "\n",
    "%matplotlib inline\n",
    "import seaborn as sns\n",
    "import matplotlib.pylab as plt\n",
    "\n",
    "from dmba import regressionSummary, exhaustive_search\n",
    "from dmba import backward_elimination, forward_selection, stepwise_selection\n",
    "from dmba import adjusted_r2_score, AIC_score, BIC_score\n"
   ]
  },
  {
   "cell_type": "markdown",
   "id": "2b779be8-9d89-40ce-8ae6-8e0e56c62e15",
   "metadata": {},
   "source": [
    "Business Goal: Predict the price the dealership will get for a used Toyota Corolla."
   ]
  },
  {
   "cell_type": "code",
   "execution_count": 24,
   "id": "bdb933ff-5b97-4483-bb24-2a51f5effcee",
   "metadata": {},
   "outputs": [],
   "source": [
    "# Read csv\n",
    "corolla_df = pd.read_csv(\"ToyotaCorolla.csv\")\n"
   ]
  },
  {
   "cell_type": "code",
   "execution_count": 25,
   "id": "c90b6b00-bebb-4685-8d6b-65060698ec80",
   "metadata": {},
   "outputs": [],
   "source": [
    "# Obtain the first 1000 observations in the dataset\n",
    "corolla_df = corolla_df.iloc[0:1000]\n",
    "\n",
    "# Determine feature variables (independent variables)\n",
    "features = [\n",
    "    \"Age_08_04\",\n",
    "    \"KM\",\n",
    "    \"Fuel_Type\",\n",
    "    \"HP\",\n",
    "    \"Met_Color\",\n",
    "    \"Automatic\",\n",
    "    \"cc\",\n",
    "    \"Doors\",\n",
    "    \"Quarterly_Tax\",\n",
    "    \"Weight\"\n",
    "]\n",
    "\n",
    "# Determine target variable (dependent variable)\n",
    "target = \"Price\"\n",
    "\n",
    "# Let X equal encoded features\n",
    "X = pd.get_dummies(corolla_df[features], drop_first=True)\n",
    "\n",
    "# Let y equal target\n",
    "y = corolla_df[target]\n"
   ]
  },
  {
   "cell_type": "code",
   "execution_count": 30,
   "id": "2f9ead3a-a476-4067-8445-704b9437aaf1",
   "metadata": {},
   "outputs": [],
   "source": [
    "# Partition the data into training (60%) and validation (40%) sets\n",
    "train_X, valid_X, train_y, valid_y = train_test_split(X, y, test_size=0.4)\n"
   ]
  },
  {
   "cell_type": "code",
   "execution_count": 31,
   "id": "3b328302-1ac9-4e8d-bb2b-e81e8eaabea6",
   "metadata": {},
   "outputs": [
    {
     "name": "stdout",
     "output_type": "stream",
     "text": [
      "Intercept: -4492.469903196015\n",
      "             Feature  Coefficient\n",
      "0          Age_08_04  -131.655896\n",
      "1                 KM    -0.019921\n",
      "2                 HP    40.206723\n",
      "3          Met_Color    21.916759\n",
      "4          Automatic   238.327735\n",
      "5                 cc     0.002043\n",
      "6              Doors   -48.144973\n",
      "7      Quarterly_Tax    16.150926\n",
      "8             Weight    14.845506\n",
      "9   Fuel_Type_Diesel  1311.544399\n",
      "10  Fuel_Type_Petrol  2745.600271\n",
      "\n",
      "Regression statistics\n",
      "\n",
      "                      Mean Error (ME) : 0.0000\n",
      "       Root Mean Squared Error (RMSE) : 1384.3585\n",
      "            Mean Absolute Error (MAE) : 1043.4074\n",
      "          Mean Percentage Error (MPE) : -0.9835\n",
      "Mean Absolute Percentage Error (MAPE) : 9.2909\n"
     ]
    },
    {
     "name": "stderr",
     "output_type": "stream",
     "text": [
      "/Users/stevenkwan/Library/Python/3.9/lib/python/site-packages/sklearn/linear_model/_base.py:279: RuntimeWarning: divide by zero encountered in matmul\n",
      "  return X @ coef_ + self.intercept_\n",
      "/Users/stevenkwan/Library/Python/3.9/lib/python/site-packages/sklearn/linear_model/_base.py:279: RuntimeWarning: overflow encountered in matmul\n",
      "  return X @ coef_ + self.intercept_\n",
      "/Users/stevenkwan/Library/Python/3.9/lib/python/site-packages/sklearn/linear_model/_base.py:279: RuntimeWarning: invalid value encountered in matmul\n",
      "  return X @ coef_ + self.intercept_\n"
     ]
    }
   ],
   "source": [
    "# Fit a multiple linear regression model to predict the price\n",
    "\n",
    "car_lm = LinearRegression()\n",
    "car_lm.fit(train_X, train_y)\n",
    "\n",
    "# Print y-intercept\n",
    "print(f\"Intercept: {car_lm.intercept_}\")\n",
    "\n",
    "# Print coefficients\n",
    "coef = pd.DataFrame({\n",
    "    \"Feature\": X.columns,\n",
    "    \"Coefficient\": car_lm.coef_\n",
    "})\n",
    "\n",
    "print(coef)\n",
    "\n",
    "# Print performance measures (training data)\n",
    "regressionSummary(train_y, car_lm.predict(train_X))\n"
   ]
  },
  {
   "cell_type": "code",
   "execution_count": 32,
   "id": "f616a486-2a66-410e-aac7-1136f06642f7",
   "metadata": {},
   "outputs": [
    {
     "name": "stdout",
     "output_type": "stream",
     "text": [
      "     Predicted Values  Actual Values     Residual\n",
      "59       15882.977199          15999   116.022801\n",
      "310      13830.059508          12950  -880.059508\n",
      "189       9839.110134           7750 -2089.110134\n",
      "474      11512.081873          10450 -1062.081873\n",
      "35       15434.832211          15750   315.167789\n",
      "..                ...            ...          ...\n",
      "522      11796.961205           9650 -2146.961205\n",
      "891       9622.297566          11500  1877.702434\n",
      "555      11658.692192          11250  -408.692192\n",
      "676       9437.913753           9500    62.086247\n",
      "705       9203.599843           9900   696.400157\n",
      "\n",
      "[400 rows x 3 columns]\n",
      "\n",
      "Regression statistics\n",
      "\n",
      "                      Mean Error (ME) : -73.3753\n",
      "       Root Mean Squared Error (RMSE) : 1315.1823\n",
      "            Mean Absolute Error (MAE) : 1003.9770\n",
      "          Mean Percentage Error (MPE) : -1.8513\n",
      "Mean Absolute Percentage Error (MAPE) : 9.0140\n"
     ]
    },
    {
     "name": "stderr",
     "output_type": "stream",
     "text": [
      "/Users/stevenkwan/Library/Python/3.9/lib/python/site-packages/sklearn/linear_model/_base.py:279: RuntimeWarning: divide by zero encountered in matmul\n",
      "  return X @ coef_ + self.intercept_\n",
      "/Users/stevenkwan/Library/Python/3.9/lib/python/site-packages/sklearn/linear_model/_base.py:279: RuntimeWarning: overflow encountered in matmul\n",
      "  return X @ coef_ + self.intercept_\n",
      "/Users/stevenkwan/Library/Python/3.9/lib/python/site-packages/sklearn/linear_model/_base.py:279: RuntimeWarning: invalid value encountered in matmul\n",
      "  return X @ coef_ + self.intercept_\n"
     ]
    }
   ],
   "source": [
    "# Use predict() to make predictions on a new set (validation set)\n",
    "car_lm_pred = car_lm.predict(valid_X)\n",
    "\n",
    "# Show Predicted, Actual, and Residual\n",
    "result_df = pd.DataFrame({\n",
    "    \"Predicted Values\": car_lm_pred,\n",
    "    \"Actual Values\": valid_y,\n",
    "    \"Residual\": valid_y - car_lm_pred\n",
    "})\n",
    "\n",
    "print(result_df)\n",
    "\n",
    "# Print performance measures (validation data)\n",
    "regressionSummary(valid_y, car_lm_pred)\n"
   ]
  },
  {
   "cell_type": "code",
   "execution_count": 33,
   "id": "583cb5ae-95f0-443f-a347-078b8efb4193",
   "metadata": {},
   "outputs": [
    {
     "data": {
      "text/plain": [
       "<Axes: xlabel='Residual', ylabel='Count'>"
      ]
     },
     "execution_count": 33,
     "metadata": {},
     "output_type": "execute_result"
    },
    {
     "data": {
      "image/png": "[encoded data removed]",
      "text/plain": [
       "<Figure size 640x480 with 1 Axes>"
      ]
     },
     "metadata": {},
     "output_type": "display_data"
    }
   ],
   "source": [
    "fig, ax = plt.subplots()\n",
    "\n",
    "sns.histplot(\n",
    "    data=result_df,\n",
    "    x=\"Residual\"\n",
    ")\n"
   ]
  },
  {
   "cell_type": "code",
   "execution_count": null,
   "id": "419070aa-0ad7-40cb-929a-f47fb3bb7aeb",
   "metadata": {},
   "outputs": [],
   "source": []
  }
 ],
 "metadata": {
  "kernelspec": {
   "display_name": "Python 3 (ipykernel)",
   "language": "python",
   "name": "python3"
  },
  "language_info": {
   "codemirror_mode": {
    "name": "ipython",
    "version": 3
   },
   "file_extension": ".py",
   "mimetype": "text/x-python",
   "name": "python",
   "nbconvert_exporter": "python",
   "pygments_lexer": "ipython3",
   "version": "3.9.6"
  }
 },
 "nbformat": 4,
 "nbformat_minor": 5
}
