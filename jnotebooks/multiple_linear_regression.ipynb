{
 "cells": [
  {
   "cell_type": "code",
   "execution_count": 1,
   "id": "733c1cfc-836b-452d-b068-33e220180a23",
   "metadata": {},
   "outputs": [
    {
     "name": "stdout",
     "output_type": "stream",
     "text": [
      "no display found. Using non-interactive Agg backend\n"
     ]
    }
   ],
   "source": [
    "import pandas as pd\n",
    "from sklearn.model_selection import train_test_split\n",
    "from sklearn.linear_model import LinearRegression, Lasso, Ridge, LassoCV, BayesianRidge\n",
    "import statsmodels.formula.api as sm\n",
    "import matplotlib.pylab as plt\n",
    "\n",
    "from dmba import regressionSummary, exhaustive_search\n",
    "from dmba import backward_elimination, forward_selection, stepwise_selection\n",
    "from dmba import adjusted_r2_score, AIC_score, BIC_score\n"
   ]
  },
  {
   "cell_type": "markdown",
   "id": "2b779be8-9d89-40ce-8ae6-8e0e56c62e15",
   "metadata": {},
   "source": [
    "Business Goal: Predict the price the dealership will get for a used Toyota Corolla."
   ]
  },
  {
   "cell_type": "code",
   "execution_count": 2,
   "id": "bdb933ff-5b97-4483-bb24-2a51f5effcee",
   "metadata": {},
   "outputs": [],
   "source": [
    "# Read csv\n",
    "corolla_df = pd.read_csv(\"ToyotaCorolla.csv\")\n"
   ]
  },
  {
   "cell_type": "code",
   "execution_count": 3,
   "id": "c90b6b00-bebb-4685-8d6b-65060698ec80",
   "metadata": {},
   "outputs": [],
   "source": [
    "# Obtain the first 1000 observations in the dataset\n",
    "corolla_df = corolla_df.iloc[0:1000]\n",
    "\n",
    "# Determine feature variables (independent variables)\n",
    "features = [\n",
    "    \"Age_08_04\",\n",
    "    \"KM\",\n",
    "    \"Fuel_Type\",\n",
    "    \"HP\",\n",
    "    \"Met_Color\",\n",
    "    \"Automatic\",\n",
    "    \"cc\",\n",
    "    \"Doors\",\n",
    "    \"Quarterly_Tax\",\n",
    "    \"Weight\"\n",
    "]\n",
    "\n",
    "# Determine target variable (dependent variable)\n",
    "target = \"Price\"\n",
    "\n",
    "# Let X equal encoded features\n",
    "X = pd.get_dummies(corolla_df[features], drop_first=True)\n",
    "\n",
    "# Let y equal target\n",
    "y = corolla_df[target]\n"
   ]
  },
  {
   "cell_type": "code",
   "execution_count": 4,
   "id": "2f9ead3a-a476-4067-8445-704b9437aaf1",
   "metadata": {},
   "outputs": [],
   "source": [
    "# Partition the data into training (60%) and validation (40%) sets\n",
    "train_X, valid_X, train_y, valid_y = train_test_split(X, y, test_size=0.4)\n"
   ]
  },
  {
   "cell_type": "code",
   "execution_count": 5,
   "id": "3b328302-1ac9-4e8d-bb2b-e81e8eaabea6",
   "metadata": {},
   "outputs": [
    {
     "name": "stdout",
     "output_type": "stream",
     "text": [
      "Intercept: -4824.780628268925\n",
      "             Feature  Coefficient\n",
      "0          Age_08_04  -130.106008\n",
      "1                 KM    -0.019325\n",
      "2                 HP    37.396794\n",
      "3          Met_Color    80.237538\n",
      "4          Automatic   537.515864\n",
      "5                 cc    -0.013806\n",
      "6              Doors    30.214286\n",
      "7      Quarterly_Tax    13.200760\n",
      "8             Weight    15.830310\n",
      "9   Fuel_Type_Diesel   797.955469\n",
      "10  Fuel_Type_Petrol  2016.085270\n",
      "\n",
      "Regression statistics\n",
      "\n",
      "                      Mean Error (ME) : 0.0000\n",
      "       Root Mean Squared Error (RMSE) : 1346.6565\n",
      "            Mean Absolute Error (MAE) : 1004.2050\n",
      "          Mean Percentage Error (MPE) : -0.9826\n",
      "Mean Absolute Percentage Error (MAPE) : 8.9189\n"
     ]
    },
    {
     "name": "stderr",
     "output_type": "stream",
     "text": [
      "/Users/stevenkwan/Library/Python/3.9/lib/python/site-packages/sklearn/linear_model/_base.py:279: RuntimeWarning: divide by zero encountered in matmul\n",
      "  return X @ coef_ + self.intercept_\n",
      "/Users/stevenkwan/Library/Python/3.9/lib/python/site-packages/sklearn/linear_model/_base.py:279: RuntimeWarning: overflow encountered in matmul\n",
      "  return X @ coef_ + self.intercept_\n",
      "/Users/stevenkwan/Library/Python/3.9/lib/python/site-packages/sklearn/linear_model/_base.py:279: RuntimeWarning: invalid value encountered in matmul\n",
      "  return X @ coef_ + self.intercept_\n"
     ]
    }
   ],
   "source": [
    "# Fit a multiple linear regression model to predict the price\n",
    "\n",
    "car_lm = LinearRegression()\n",
    "car_lm.fit(train_X, train_y)\n",
    "\n",
    "# Print y-intercept\n",
    "print(f\"Intercept: {car_lm.intercept_}\")\n",
    "\n",
    "# Print coefficients\n",
    "coef = pd.DataFrame({\n",
    "    \"Feature\": X.columns,\n",
    "    \"Coefficient\": car_lm.coef_\n",
    "})\n",
    "\n",
    "print(coef)\n",
    "\n",
    "# Print performance measures (training data)\n",
    "regressionSummary(train_y, car_lm.predict(train_X))\n"
   ]
  },
  {
   "cell_type": "code",
   "execution_count": 6,
   "id": "f616a486-2a66-410e-aac7-1136f06642f7",
   "metadata": {},
   "outputs": [
    {
     "name": "stdout",
     "output_type": "stream",
     "text": [
      "     Predicted Values  Actual Values     Residual\n",
      "75       16753.480553          16950   196.519447\n",
      "170      17611.596340          18245   633.403660\n",
      "971       8150.844917          10495  2344.155083\n",
      "960      14590.950771           9390 -5200.950771\n",
      "577      11709.769644          11950   240.230356\n",
      "..                ...            ...          ...\n",
      "185      18652.444403          18245  -407.444403\n",
      "224      13724.135121          12450 -1274.135121\n",
      "12       20641.557066          19600 -1041.557066\n",
      "268      15240.005836          14750  -490.005836\n",
      "254      12671.739135           9940 -2731.739135\n",
      "\n",
      "[400 rows x 3 columns]\n",
      "\n",
      "Regression statistics\n",
      "\n",
      "                      Mean Error (ME) : 65.5758\n",
      "       Root Mean Squared Error (RMSE) : 1380.9519\n",
      "            Mean Absolute Error (MAE) : 1061.2200\n",
      "          Mean Percentage Error (MPE) : -0.7748\n",
      "Mean Absolute Percentage Error (MAPE) : 9.5151\n"
     ]
    },
    {
     "name": "stderr",
     "output_type": "stream",
     "text": [
      "/Users/stevenkwan/Library/Python/3.9/lib/python/site-packages/sklearn/linear_model/_base.py:279: RuntimeWarning: divide by zero encountered in matmul\n",
      "  return X @ coef_ + self.intercept_\n",
      "/Users/stevenkwan/Library/Python/3.9/lib/python/site-packages/sklearn/linear_model/_base.py:279: RuntimeWarning: overflow encountered in matmul\n",
      "  return X @ coef_ + self.intercept_\n",
      "/Users/stevenkwan/Library/Python/3.9/lib/python/site-packages/sklearn/linear_model/_base.py:279: RuntimeWarning: invalid value encountered in matmul\n",
      "  return X @ coef_ + self.intercept_\n"
     ]
    }
   ],
   "source": [
    "# Use predict() to make predictions on a new set (validation set)\n",
    "car_lm_pred = car_lm.predict(valid_X)\n",
    "\n",
    "# Show Predicted, Actual, and Residual\n",
    "result_df = pd.DataFrame({\n",
    "    \"Predicted Values\": car_lm_pred,\n",
    "    \"Actual Values\": valid_y,\n",
    "    \"Residual\": valid_y - car_lm_pred\n",
    "})\n",
    "\n",
    "print(result_df)\n",
    "\n",
    "# Print performance measures (validation data)\n",
    "regressionSummary(valid_y, car_lm_pred)\n"
   ]
  }
 ],
 "metadata": {
  "kernelspec": {
   "display_name": "Python 3 (ipykernel)",
   "language": "python",
   "name": "python3"
  },
  "language_info": {
   "codemirror_mode": {
    "name": "ipython",
    "version": 3
   },
   "file_extension": ".py",
   "mimetype": "text/x-python",
   "name": "python",
   "nbconvert_exporter": "python",
   "pygments_lexer": "ipython3",
   "version": "3.9.6"
  }
 },
 "nbformat": 4,
 "nbformat_minor": 5
}
